{
 "cells": [
  {
   "cell_type": "code",
   "execution_count": 1,
   "metadata": {
    "collapsed": true
   },
   "outputs": [],
   "source": [
    "import pandas as pd\n",
    "import numpy as np\n",
    "import datetime\n",
    "import importlib\n",
    "import pickle\n",
    "\n",
    "import data_utils\n",
    "import model_utils\n",
    "import train_utils\n",
    "import evaluation\n",
    "import submission\n",
    "importlib.reload(data_utils)\n",
    "importlib.reload(model_utils)\n",
    "importlib.reload(train_utils)\n",
    "importlib.reload(evaluation)\n",
    "importlib.reload(submission)\n",
    "\n",
    "import torch\n",
    "import torch.nn as nn"
   ]
  },
  {
   "cell_type": "markdown",
   "metadata": {},
   "source": [
    "### Training "
   ]
  },
  {
   "cell_type": "code",
   "execution_count": 2,
   "metadata": {
    "collapsed": true,
    "scrolled": false
   },
   "outputs": [],
   "source": [
    "file_dict = {\"train\": \"./data/train_real.csv\", \n",
    "             \"val_text\": \"./hw2_utterance_dev.txt\",\n",
    "             \"val_label\": \"./hw2_tags_dev.txt\",\n",
    "             \"test_text\": \"./hw2_utterance_test.txt\",\n",
    "             \"holdout\": \"./data/holdout.csv\"}\n",
    "\n",
    "train_data, val_data, info = data_utils.prep_all_data(file_dict)"
   ]
  },
  {
   "cell_type": "code",
   "execution_count": 40,
   "metadata": {},
   "outputs": [
    {
     "name": "stdout",
     "output_type": "stream",
     "text": [
      "Epoch: 0, LR: 0.001, Train Loss: 3.8016, Val Loss: 4.3364, Val f1 0.529\n",
      "Epoch: 1, LR: 0.001, Train Loss: 1.9010, Val Loss: 4.3861, Val f1 0.533\n",
      "Epoch: 2, LR: 0.001, Train Loss: 1.5790, Val Loss: 4.5007, Val f1 0.553\n",
      "Epoch: 3, LR: 0.001, Train Loss: 1.4850, Val Loss: 4.6645, Val f1 0.533\n",
      "Epoch: 4, LR: 0.001, Train Loss: 1.4302, Val Loss: 4.8835, Val f1 0.514\n",
      "Epoch: 5, LR: 0.001, Train Loss: 1.4204, Val Loss: 5.0501, Val f1 0.510\n",
      "Epoch: 6, LR: 0.001, Train Loss: 1.3962, Val Loss: 5.2078, Val f1 0.496\n",
      "Epoch: 7, LR: 0.001, Train Loss: 1.3943, Val Loss: 5.2522, Val f1 0.515\n",
      "Epoch: 8, LR: 0.001, Train Loss: 1.4000, Val Loss: 5.3780, Val f1 0.527\n",
      "Epoch: 9, LR: 0.001, Train Loss: 1.3841, Val Loss: 5.5196, Val f1 0.535\n",
      "Epoch: 10, LR: 0.001, Train Loss: 1.3749, Val Loss: 5.6524, Val f1 0.508\n",
      "Epoch: 11, LR: 0.0001, Train Loss: 1.3735, Val Loss: 5.8687, Val f1 0.504\n",
      "Epoch: 12, LR: 0.0001, Train Loss: 1.2706, Val Loss: 5.7675, Val f1 0.531\n",
      "Epoch: 13, LR: 0.0001, Train Loss: 1.2401, Val Loss: 5.7621, Val f1 0.537\n"
     ]
    }
   ],
   "source": [
    "m = model_utils.BaseModel(info, pretrain=\"glove\").cuda()\n",
    "result = train_utils.train(train_data, val_data, m)"
   ]
  },
  {
   "cell_type": "code",
   "execution_count": 106,
   "metadata": {},
   "outputs": [
    {
     "name": "stdout",
     "output_type": "stream",
     "text": [
      "Epoch: 0, LR: 0.001, Train Loss: 2.9002, Val Loss: 2.9925, Val f1 0.691\n",
      "Epoch: 1, LR: 0.001, Train Loss: 0.8067, Val Loss: 2.4537, Val f1 0.727\n",
      "Epoch: 2, LR: 0.001, Train Loss: 0.4394, Val Loss: 2.8371, Val f1 0.718\n",
      "Epoch: 3, LR: 0.001, Train Loss: 0.3380, Val Loss: 2.7385, Val f1 0.736\n",
      "Epoch: 4, LR: 0.001, Train Loss: 0.2524, Val Loss: 2.8839, Val f1 0.745\n",
      "Epoch: 5, LR: 0.001, Train Loss: 0.2193, Val Loss: 3.0147, Val f1 0.734\n",
      "Epoch: 6, LR: 0.001, Train Loss: 0.2073, Val Loss: 3.0823, Val f1 0.752\n",
      "Epoch: 7, LR: 0.001, Train Loss: 0.1939, Val Loss: 3.3146, Val f1 0.743\n",
      "Epoch: 8, LR: 0.001, Train Loss: 0.1660, Val Loss: 3.5183, Val f1 0.724\n",
      "Epoch: 9, LR: 0.001, Train Loss: 0.1616, Val Loss: 3.5659, Val f1 0.724\n",
      "Epoch: 10, LR: 0.001, Train Loss: 0.1614, Val Loss: 3.7472, Val f1 0.725\n",
      "Epoch: 11, LR: 0.001, Train Loss: 0.1459, Val Loss: 3.7303, Val f1 0.734\n",
      "Epoch: 12, LR: 0.0001, Train Loss: 0.1409, Val Loss: 3.9598, Val f1 0.725\n",
      "Epoch: 13, LR: 0.0001, Train Loss: 0.1049, Val Loss: 3.9044, Val f1 0.740\n",
      "Epoch: 14, LR: 0.0001, Train Loss: 0.0882, Val Loss: 3.8832, Val f1 0.738\n",
      "Epoch: 15, LR: 0.0001, Train Loss: 0.0834, Val Loss: 3.8737, Val f1 0.736\n",
      "Epoch: 16, LR: 0.0001, Train Loss: 0.0802, Val Loss: 3.9239, Val f1 0.733\n",
      "Epoch: 17, LR: 0.0001, Train Loss: 0.0792, Val Loss: 3.9218, Val f1 0.734\n"
     ]
    }
   ],
   "source": [
    "importlib.reload(model_utils)\n",
    "m = model_utils.GRU(info, direction=1).cuda()\n",
    "result = train_utils.train(train_data, val_data, m)"
   ]
  },
  {
   "cell_type": "code",
   "execution_count": 107,
   "metadata": {},
   "outputs": [
    {
     "data": {
      "text/plain": [
       "{'train f1 score': 0.9767660910518053,\n",
       " 'train loss': 0.16572219978325187,\n",
       " 'trained_model': GRU(\n",
       "   (embedding): Embedding(1100, 300)\n",
       "   (linear_layer): Linear(in_features=200, out_features=27, bias=True)\n",
       "   (grucell): GRUCell(300, 200)\n",
       " ),\n",
       " 'val f1 score': 0.7523316062176166,\n",
       " 'val loss': 3.921783982491007}"
      ]
     },
     "execution_count": 107,
     "metadata": {},
     "output_type": "execute_result"
    }
   ],
   "source": [
    "result"
   ]
  },
  {
   "cell_type": "code",
   "execution_count": 3,
   "metadata": {
    "scrolled": true
   },
   "outputs": [
    {
     "name": "stdout",
     "output_type": "stream",
     "text": [
      "Epoch: 0, LR: 0.001, Train Loss: 2.4104, Val Loss: 2.6255, Val f1 0.714\n",
      "Epoch: 1, LR: 0.001, Train Loss: 0.4522, Val Loss: 2.1465, Val f1 0.764\n",
      "Epoch: 2, LR: 0.001, Train Loss: 0.1908, Val Loss: 2.1976, Val f1 0.787\n",
      "Epoch: 3, LR: 0.001, Train Loss: 0.1224, Val Loss: 2.3299, Val f1 0.791\n",
      "Epoch: 4, LR: 0.001, Train Loss: 0.0878, Val Loss: 2.7668, Val f1 0.786\n",
      "Epoch: 5, LR: 0.001, Train Loss: 0.0662, Val Loss: 2.8125, Val f1 0.805\n",
      "Epoch: 6, LR: 0.001, Train Loss: 0.0486, Val Loss: 2.8417, Val f1 0.808\n",
      "Epoch: 7, LR: 0.001, Train Loss: 0.0381, Val Loss: 3.0598, Val f1 0.793\n",
      "Epoch: 8, LR: 0.001, Train Loss: 0.0446, Val Loss: 3.0771, Val f1 0.799\n",
      "Epoch: 9, LR: 0.001, Train Loss: 0.0297, Val Loss: 3.2020, Val f1 0.805\n",
      "Epoch: 10, LR: 0.001, Train Loss: 0.0285, Val Loss: 3.3087, Val f1 0.796\n",
      "Epoch: 11, LR: 0.001, Train Loss: 0.0511, Val Loss: 3.7601, Val f1 0.774\n",
      "Epoch: 12, LR: 0.0001, Train Loss: 0.0183, Val Loss: 4.0560, Val f1 0.782\n",
      "Epoch: 13, LR: 0.0001, Train Loss: 0.0187, Val Loss: 4.0025, Val f1 0.786\n",
      "Epoch: 14, LR: 0.0001, Train Loss: 0.0069, Val Loss: 4.0040, Val f1 0.785\n",
      "Epoch: 15, LR: 0.0001, Train Loss: 0.0036, Val Loss: 4.0120, Val f1 0.785\n",
      "Epoch: 16, LR: 0.0001, Train Loss: 0.0031, Val Loss: 4.0455, Val f1 0.788\n",
      "Epoch: 17, LR: 0.0001, Train Loss: 0.0027, Val Loss: 4.0951, Val f1 0.785\n"
     ]
    }
   ],
   "source": [
    "importlib.reload(model_utils)\n",
    "m = model_utils.GRU(info, direction=2).cuda()\n",
    "result = train_utils.train(train_data, val_data, m)"
   ]
  },
  {
   "cell_type": "code",
   "execution_count": 8,
   "metadata": {},
   "outputs": [],
   "source": [
    "torch.save(result[\"trained_model\"], \"./data/model_checkpoints/biGRU_Feb23.mdl\")"
   ]
  },
  {
   "cell_type": "markdown",
   "metadata": {},
   "source": [
    "### Ensemble"
   ]
  },
  {
   "cell_type": "markdown",
   "metadata": {},
   "source": [
    "### Generate submission file"
   ]
  },
  {
   "cell_type": "code",
   "execution_count": 6,
   "metadata": {},
   "outputs": [
    {
     "name": "stdout",
     "output_type": "stream",
     "text": [
      "prediction file saved to: prediction.txt\n"
     ]
    }
   ],
   "source": [
    "submission.get_submission(model=result[\"trained_model\"], data=val_data)"
   ]
  },
  {
   "cell_type": "code",
   "execution_count": null,
   "metadata": {
    "collapsed": true
   },
   "outputs": [],
   "source": []
  }
 ],
 "metadata": {
  "kernelspec": {
   "display_name": "Python 3",
   "language": "python",
   "name": "python3"
  },
  "language_info": {
   "codemirror_mode": {
    "name": "ipython",
    "version": 3
   },
   "file_extension": ".py",
   "mimetype": "text/x-python",
   "name": "python",
   "nbconvert_exporter": "python",
   "pygments_lexer": "ipython3",
   "version": "3.6.2"
  }
 },
 "nbformat": 4,
 "nbformat_minor": 2
}
