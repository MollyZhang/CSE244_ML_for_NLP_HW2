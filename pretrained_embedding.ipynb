{
 "cells": [
  {
   "cell_type": "markdown",
   "metadata": {},
   "source": [
    "### This notebook process pretrained embedding from fasttext and glove and get a smaller representation only containing words that show up in training data "
   ]
  },
  {
   "cell_type": "code",
   "execution_count": 2,
   "metadata": {
    "collapsed": true
   },
   "outputs": [],
   "source": [
    "import numpy as np"
   ]
  },
  {
   "cell_type": "code",
   "execution_count": 4,
   "metadata": {},
   "outputs": [
    {
     "data": {
      "text/plain": [
       "1100"
      ]
     },
     "execution_count": 4,
     "metadata": {},
     "output_type": "execute_result"
    }
   ],
   "source": [
    "vocab = np.load(\"./data/vocab.npy\"); len(vocab)"
   ]
  },
  {
   "cell_type": "code",
   "execution_count": 6,
   "metadata": {},
   "outputs": [
    {
     "name": "stdout",
     "output_type": "stream",
     "text": [
      "10000,20000,30000,40000,50000,60000,70000,80000,90000,100000,110000,120000,130000,140000,150000,160000,170000,180000,190000,200000,210000,220000,230000,240000,250000,260000,270000,280000,290000,300000,310000,320000,330000,340000,350000,360000,370000,380000,390000,400000,410000,420000,430000,440000,450000,460000,470000,480000,490000,500000,510000,520000,530000,540000,550000,560000,570000,580000,590000,600000,610000,620000,630000,640000,650000,660000,670000,680000,690000,700000,710000,720000,730000,740000,750000,760000,770000,780000,790000,800000,810000,820000,830000,840000,850000,860000,870000,880000,890000,900000,910000,920000,930000,940000,950000,960000,970000,980000,990000,1000000,1010000,1020000,1030000,1040000,1050000,1060000,1070000,1080000,1090000,1100000,1110000,1120000,1130000,1140000,1150000,1160000,1170000,1180000,1190000,1200000,1210000,1220000,1230000,1240000,1250000,1260000,1270000,1280000,1290000,1300000,1310000,1320000,1330000,1340000,1350000,1360000,1370000,1380000,1390000,1400000,1410000,1420000,1430000,1440000,1450000,1460000,1470000,1480000,1490000,1500000,1510000,1520000,1530000,1540000,1550000,1560000,1570000,1580000,1590000,1600000,1610000,1620000,1630000,1640000,1650000,1660000,1670000,1680000,1690000,1700000,1710000,1720000,1730000,1740000,1750000,1760000,1770000,1780000,1790000,1800000,1810000,1820000,1830000,1840000,1850000,1860000,1870000,1880000,1890000,1900000,1910000,1920000,1930000,1940000,1950000,1960000,1970000,1980000,1990000,2000000,"
     ]
    }
   ],
   "source": [
    "# fasttext\n",
    "\n",
    "f = open(\"/home/molly/Desktop/fasttext/crawl-300d-2M-subword.vec\", \"r\")\n",
    "f_out = open(\"./data/hw2_vocab_ft.vec\", \"w\")\n",
    "d = {}\n",
    "for i, line in enumerate(f):\n",
    "    if i == 0:\n",
    "        continue\n",
    "    if i % 10000 == 0:\n",
    "        print(i, end=\",\")\n",
    "    word = line.split(\" \")[0]\n",
    "    if word in vocab:\n",
    "        d[word] = line.strip().split(' ')\n",
    "        f_out.write(line)\n",
    "    if len(d) == len(vocab):\n",
    "        break\n",
    "f.close()\n",
    "f_out.close()"
   ]
  },
  {
   "cell_type": "code",
   "execution_count": 11,
   "metadata": {},
   "outputs": [
    {
     "name": "stdout",
     "output_type": "stream",
     "text": [
      "0,the,and,to,of,a,in,is,for,that,-,on,you,with,'s,it,are,by,at,be,this,as,from,was,have,or,not,will,an,can,all,my,has,do,they,more,about,he,out,his,up,like,which,if,would,me,who,time,what,2,when,there,been,some,get,were,other,also,them,new,any,only,3,how,first,i,over,make,good,know,am,now,see,may,she,most,did,work,two,think,much,should,us,many,back,need,year,does,want,great,where,go,day,right,best,made,'re,find,take,information,used,love,home,last,help,free,life,world,little,while,look,7,long,every,something,game,available,come,site,another,days,different,20,next,set,must,since,s,three,give,during,show,end,family,looking,name,today,old,company,money,top,big,man,full,page,away,school,play,data,music,having,children,start,experience,making,done,provide,list,night,hard,person,13,16,least,side,yet,called,24,please,open,women,based,house,story,search,came,run,de,anything,17,country,view,possible,several,pretty,results,21,games,tell,kind,members,comes,hope,black,type,four,men,current,pay,young,movie,month,future,words,white,beautiful,history,cost,else,short,law,coming,perfect,film,details,complete,companies,hotel,learn,kids,watch,content,original,age,date,social,shows,turn,deal,girl,main,bring,playing,action,sound,stuff,cannot,woman,related,guys,behind,return,field,guy,total,remember,wrong,lost,general,outside,currently,professional,lead,pictures,recent,reviews,latest,recently,network,send,amazing,travel,played,release,girls,receive,hold,options,step,role,title,green,production,interested,war,videos,shot,t,land,info,born,language,costs,weekend,wedding,released,career,character,voice,break,shown,option,stories,display,modern,gone,1st,nature,spent,considered,spend,movies,father,sort,expect,states,b,cars,direct,request,watching,official,whose,listed,funny,cell,activity,names,star,dead,figure,dark,showing,rock,d,profile,budget,campaign,characters,street,opening,speak,bank,regarding,responsible,finding,stars,appropriate,background,topic,wonder,director,produce,select,la,bill,fat,welcome,century,park,e,produced,friendly,female,et,category,ice,beauty,plays,die,highest,spending,foreign,south,television,male,kill,steel,eight,whom,discuss,returned,dogs,detail,trouble,birthday,audience,kid,wind,cast,episode,flowers,detailed,master,etc,relevant,pull,entertainment,tonight,rating,gun,facts,freedom,films,appeared,snow,oz,begins,roll,speaking,anymore,soul,studio,adults,camp,1000,evil,listing,historical,r,originally,shoot,musical,nine,stone,forever,god,upcoming,g,king,1990,revenue,arts,magic,parent,describe,facing,generated,profit,directed,cuts,dreams,casino,crew,suggestions,baseball,basketball,identity,passion,ladies,iron,writers,titles,generate,birds,calendar,boots,13th,prison,union,decade,concerning,producing,ratings,rated,falls,solo,uk,debut,dancing,dirty,releases,forest,dick,toy,singer,mirror,summary,actor,le,drama,brothers,languages,comedy,involves,sleeping,favorites,rising,th,fantasy,romantic,mood,pitch,pride,rings,horses,wise,hitting,lately,resident,moon,hero,credits,blind,chips,cruise,origin,producer,twenty,compliance,mystery,english,ed,happiness,produces,actors,involve,locate,universal,expecting,spoken,restrictions,horror,earnings,bay,scary,immigration,overview,theatre,gambling,stats,american,genre,actress,producers,romance,mask,directors,voices,exhibit,pie,wars,citizen,silence,canada,gross,twelve,united,don,viewers,classified,drew,kingdom,woods,revenues,captain,curve,chick,jack,cabin,whats,biography,french,belongs,turkey,deer,separation,diving,india,immigrants,castle,indian,ghost,starring,trap,china,homepage,bacon,10000,devil,taxi,angels,acted,john,usa,hobby,christian,classification,yr,hunger,wears,america,chinese,japanese,polish,studios,composer,bundle,lord,hunter,rises,twins,ford,tin,ray,dawn,lion,filmed,kindly,bio,chess,themed,productions,fox,russian,spider,theaters,german,directing,zombie,spanish,canadian,friday,james,skating,wizard,iv,michael,chris,avatar,washington,parental,rocky,mechanic,plots,japan,grease,italian,berry,pg,stared,zombies,nick,europe,rebel,disney,prejudice,possessed,tom,smith,halloween,british,giants,republic,inception,england,receipts,lee,thirteen,spike,mexican,reliance,starred,france,knight,wrath,rob,20000,thunder,frank,twilight,directs,nc,childrens,vampires,george,hollywood,kinky,shortcut,stark,hitch,africa,fi,twentieth,sparkle,greek,harry,oranges,hindi,ants,heroine,july,germany,courageous,fury,floats,paramount,paranormal,theatres,robert,spain,sinister,scott,9-11,homer,korean,ireland,william,fellows,mario,seattle,synopsis,italy,particulars,martin,millionaire,sarah,jennifer,jaws,richard,dutch,vow,asia,dramas,tim,tony,ryan,hum,pi,jason,30000,karate,christ,overboard,surfer,flicks,comedies,kevin,robin,brian,brazil,johnny,belle,woody,batman,hangover,charles,sean,footnote,scotland,allen,swan,ron,michelle,russia,mermaid,terry,sheen,columbia,anna,andrew,victor,platoon,goto,tidbits,tamil,zealand,charlie,patriot,jon,anderson,co-star,swedish,simpson,casa,bros,superman,40000,lambs,vietnam,howard,brad,jerry,perry,patrick,ted,columbus,hamlet,bruce,retribution,sleepless,elizabeth,britain,morgan,anne,stephen,clark,childs,filmography,robberies,stewart,katie,alan,mandarin,grizzly,budgeted,chan,parenthood,ms.,jake,han,cher,sci,tyler,50000,emma,bale,steven,brooks,harris,luke,barry,meg,prada,eddie,spiderman,elvis,hulk,thrillers,godfather,lucy,titanic,julia,danish,czech,russell,warner,angelina,lawrence,sally,watson,sandra,suspenseful,lawless,60000,albert,jolie,cameron,terminator,mel,todd,roberts,norway,penn,jackie,gibson,murphy,dollhouse,secretariat,walt,lucas,kristen,poland,beatiful,holmes,ju,ellen,infomation,oliver,packer,apollo,70000,hugh,gable,chaser,romeo,jj,grossing,royale,hobbit,marley,harrison,scifi,singleton,burton,westerns,kane,pitt,julian,80000,freeman,aniston,avengers,hungarian,owen,busters,diaz,hornet,thor,tum,noah,90000,nemo,vader,ruddy,darth,avenger,alfred,moby,willis,diggs,bullock,100000,wb,wes,olsen,roberto,depp,hungary,hanks,pixar,exorcist,110000,bros.,shepard,clint,gables,bourne,halle,shelly,krishna,mockingbird,blanca,120000,mgm,frances,bengali,rudy,madagascar,possesion,130000,bette,frankenstein,dory,godzilla,eastwood,sergio,looper,debaters,140000,leone,huntsman,searchlight,jurassic,costars,rambo,vivian,150000,kareena,sidney,farrell,hathaway,kannada,georges,160000,chopra,karan,gatsby,clive,bala,fleming,gabrielle,lester,magnolias,barrymore,170000,palma,guido,footloose,180000,incredibles,ferrell,gump,stanton,cecil,ridley,190000,hitchcock,quentin,rwanda,travolta,200000,clooney,abrams,210000,bullhead,realease,220000,degeneres,230000,crowe,expendables,dreamworks,240000,slumdog,meryl,jackman,portugese,250000,pyaar,denzel,barbra,260000,spielberg,streisand,streep,dax,landau,270000,midler,280000,paxton,forager,sandlot,kati,290000,japaneese,connery,relased,300000,congeniality,310000,buget,320000,gyllenhaal,apocolypse,330000,moives,lionsgate,340000,moritz,redford,350000,360000,dispaly,trainspotting,370000,darla,380000,goodfellas,scorsese,esme,390000,swayze,weinstein,pg-13,havre,transylvania,statham,400000,cusack,410000,revanche,yash,realese,420000,mpaa,430000,castmembers,reiner,440000,rickman,dredd,deniro,450000,460000,470000,costner,spanglish,480000,relesed,glazer,490000,500000,niel,paquin,510000,520000,capra,530000,540000,bings,gilda,550000,560000,thoda,570000,cujo,580000,590000,mcgovern,600000,610000,620000,indochine,elling,parador,630000,640000,taye,nc-17,650000,aguirre,johar,660000,670000,680000,barfi,690000,spaceballs,700000,710000,miramax,720000,730000,740000,750000,760000,770000,780000,790000,800000,810000,820000,chiranjeevi,830000,840000,850000,860000,870000,herione,880000,890000,900000,910000,satyricon,920000,930000,940000,950000,960000,970000,980000,990000,g-rated,1000000,polley,1010000,1020000,vidor,1030000,1040000,abramson,1050000,1060000,1070000,1080000,1090000,1100000,1110000,1120000,hobbist,1130000,1140000,speilberg,1150000,phifer,1160000,1170000,1180000,1190000,1200000,1210000,aankhen,1220000,1230000,1240000,1250000,1260000,1270000,1280000,1290000,1300000,1310000,1320000,1330000,1340000,1350000,benigni,1360000,1370000,1380000,1390000,bruckheimer,demille,1400000,1410000,1420000,1430000,1440000,1450000,1460000,1470000,1480000,"
     ]
    },
    {
     "name": "stdout",
     "output_type": "stream",
     "text": [
      "1490000,1500000,1510000,1520000,1530000,1540000,1550000,1560000,1570000,1580000,1590000,1600000,1610000,1620000,1630000,1640000,chrisian,1650000,scorcese,1660000,1670000,1680000,1690000,1700000,1710000,1720000,1730000,1740000,1750000,1760000,1770000,1780000,1790000,patang,1800000,1810000,1820000,1830000,1840000,1850000,1860000,1870000,ferell,1880000,1890000,1900000,1910000,paranorman,1920000,1930000,1940000,1950000,1960000,1970000,1980000,1990000,2000000,2010000,2020000,2030000,2040000,2050000,2060000,2070000,2080000,2090000,2100000,2110000,2120000,2130000,2140000,2150000,2160000,2170000,2180000,2190000,"
     ]
    }
   ],
   "source": [
    "# glove\n",
    "\n",
    "f = open(\"/home/molly/Desktop/glove/glove.840B.300d.txt\", \"r\")\n",
    "f_out = open(\"./data/pretrained_embedding/glove_vocab.vec\", \"w\")\n",
    "for i, line in enumerate(f):\n",
    "    if i % 10000 == 0:\n",
    "        print(i, end=\",\")\n",
    "    word = line.split(\" \")[0]\n",
    "    if word in vocab:\n",
    "        f_out.write(line)\n",
    "        print(word, end=\",\")\n",
    "f.close()\n",
    "f_out.close()"
   ]
  }
 ],
 "metadata": {
  "kernelspec": {
   "display_name": "Python 3",
   "language": "python",
   "name": "python3"
  },
  "language_info": {
   "codemirror_mode": {
    "name": "ipython",
    "version": 3
   },
   "file_extension": ".py",
   "mimetype": "text/x-python",
   "name": "python",
   "nbconvert_exporter": "python",
   "pygments_lexer": "ipython3",
   "version": "3.6.2"
  }
 },
 "nbformat": 4,
 "nbformat_minor": 2
}
