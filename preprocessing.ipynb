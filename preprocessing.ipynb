{
 "cells": [
  {
   "cell_type": "code",
   "execution_count": 21,
   "metadata": {
    "collapsed": true
   },
   "outputs": [],
   "source": [
    "import pandas as pd\n",
    "import numpy as np\n",
    "import spacy\n",
    "import itertools\n",
    "import pickle\n",
    "import re"
   ]
  },
  {
   "cell_type": "markdown",
   "metadata": {},
   "source": [
    "### take a look at data"
   ]
  },
  {
   "cell_type": "code",
   "execution_count": 22,
   "metadata": {
    "collapsed": true
   },
   "outputs": [],
   "source": [
    "df_train = pd.read_csv(\"./data/hw2_train.csv\")"
   ]
  },
  {
   "cell_type": "code",
   "execution_count": 23,
   "metadata": {},
   "outputs": [
    {
     "data": {
      "text/plain": [
       "(2312, 2)"
      ]
     },
     "execution_count": 23,
     "metadata": {},
     "output_type": "execute_result"
    }
   ],
   "source": [
    "df_train.shape"
   ]
  },
  {
   "cell_type": "code",
   "execution_count": 24,
   "metadata": {},
   "outputs": [
    {
     "data": {
      "text/html": [
       "<div>\n",
       "<style>\n",
       "    .dataframe thead tr:only-child th {\n",
       "        text-align: right;\n",
       "    }\n",
       "\n",
       "    .dataframe thead th {\n",
       "        text-align: left;\n",
       "    }\n",
       "\n",
       "    .dataframe tbody tr th {\n",
       "        vertical-align: top;\n",
       "    }\n",
       "</style>\n",
       "<table border=\"1\" class=\"dataframe\">\n",
       "  <thead>\n",
       "    <tr style=\"text-align: right;\">\n",
       "      <th></th>\n",
       "      <th>utterances</th>\n",
       "      <th>IOB Slot tags</th>\n",
       "    </tr>\n",
       "  </thead>\n",
       "  <tbody>\n",
       "    <tr>\n",
       "      <th>2263</th>\n",
       "      <td>list movie ratings for us movie looper</td>\n",
       "      <td>O O O O B_country O B_movie</td>\n",
       "    </tr>\n",
       "    <tr>\n",
       "      <th>309</th>\n",
       "      <td>origin of spanglish</td>\n",
       "      <td>O O B_movie</td>\n",
       "    </tr>\n",
       "    <tr>\n",
       "      <th>1144</th>\n",
       "      <td>ed harris films</td>\n",
       "      <td>B_person I_person O</td>\n",
       "    </tr>\n",
       "    <tr>\n",
       "      <th>1626</th>\n",
       "      <td>show me scifi fantasy movies</td>\n",
       "      <td>O O B_genre I_genre O</td>\n",
       "    </tr>\n",
       "    <tr>\n",
       "      <th>2058</th>\n",
       "      <td>show my spielberg info</td>\n",
       "      <td>O O B_person O</td>\n",
       "    </tr>\n",
       "  </tbody>\n",
       "</table>\n",
       "</div>"
      ],
      "text/plain": [
       "                                  utterances                IOB Slot tags\n",
       "2263  list movie ratings for us movie looper  O O O O B_country O B_movie\n",
       "309                      origin of spanglish                  O O B_movie\n",
       "1144                         ed harris films          B_person I_person O\n",
       "1626            show me scifi fantasy movies        O O B_genre I_genre O\n",
       "2058                  show my spielberg info               O O B_person O"
      ]
     },
     "execution_count": 24,
     "metadata": {},
     "output_type": "execute_result"
    }
   ],
   "source": [
    "df_train.sample(5)"
   ]
  },
  {
   "cell_type": "code",
   "execution_count": 7,
   "metadata": {},
   "outputs": [
    {
     "data": {
      "text/html": [
       "<div>\n",
       "<style>\n",
       "    .dataframe thead tr:only-child th {\n",
       "        text-align: right;\n",
       "    }\n",
       "\n",
       "    .dataframe thead th {\n",
       "        text-align: left;\n",
       "    }\n",
       "\n",
       "    .dataframe tbody tr th {\n",
       "        vertical-align: top;\n",
       "    }\n",
       "</style>\n",
       "<table border=\"1\" class=\"dataframe\">\n",
       "  <thead>\n",
       "    <tr style=\"text-align: right;\">\n",
       "      <th></th>\n",
       "      <th>0</th>\n",
       "    </tr>\n",
       "  </thead>\n",
       "  <tbody>\n",
       "    <tr>\n",
       "      <th>0</th>\n",
       "      <td>show me ones by david fincher</td>\n",
       "    </tr>\n",
       "    <tr>\n",
       "      <th>1</th>\n",
       "      <td>who is director of the words</td>\n",
       "    </tr>\n",
       "    <tr>\n",
       "      <th>2</th>\n",
       "      <td>what rating did the campaign movie get</td>\n",
       "    </tr>\n",
       "    <tr>\n",
       "      <th>3</th>\n",
       "      <td>how much did looper gross</td>\n",
       "    </tr>\n",
       "    <tr>\n",
       "      <th>4</th>\n",
       "      <td>what is the budget for epic</td>\n",
       "    </tr>\n",
       "  </tbody>\n",
       "</table>\n",
       "</div>"
      ],
      "text/plain": [
       "                                        0\n",
       "0           show me ones by david fincher\n",
       "1            who is director of the words\n",
       "2  what rating did the campaign movie get\n",
       "3               how much did looper gross\n",
       "4             what is the budget for epic"
      ]
     },
     "execution_count": 7,
     "metadata": {},
     "output_type": "execute_result"
    }
   ],
   "source": [
    "df_val = pd.read_csv(\"hw2_utterance_dev.txt\", header=None)\n",
    "df_val.head(5)"
   ]
  },
  {
   "cell_type": "code",
   "execution_count": 8,
   "metadata": {},
   "outputs": [
    {
     "data": {
      "text/html": [
       "<div>\n",
       "<style>\n",
       "    .dataframe thead tr:only-child th {\n",
       "        text-align: right;\n",
       "    }\n",
       "\n",
       "    .dataframe thead th {\n",
       "        text-align: left;\n",
       "    }\n",
       "\n",
       "    .dataframe tbody tr th {\n",
       "        vertical-align: top;\n",
       "    }\n",
       "</style>\n",
       "<table border=\"1\" class=\"dataframe\">\n",
       "  <thead>\n",
       "    <tr style=\"text-align: right;\">\n",
       "      <th></th>\n",
       "      <th>0</th>\n",
       "    </tr>\n",
       "  </thead>\n",
       "  <tbody>\n",
       "    <tr>\n",
       "      <th>0</th>\n",
       "      <td>O O O O B_director I_director</td>\n",
       "    </tr>\n",
       "    <tr>\n",
       "      <th>1</th>\n",
       "      <td>O O O O B_movie I_movie</td>\n",
       "    </tr>\n",
       "    <tr>\n",
       "      <th>2</th>\n",
       "      <td>O O O B_movie I_movie O O</td>\n",
       "    </tr>\n",
       "    <tr>\n",
       "      <th>3</th>\n",
       "      <td>O O O B_movie O</td>\n",
       "    </tr>\n",
       "    <tr>\n",
       "      <th>4</th>\n",
       "      <td>O O O O O B_movie</td>\n",
       "    </tr>\n",
       "  </tbody>\n",
       "</table>\n",
       "</div>"
      ],
      "text/plain": [
       "                               0\n",
       "0  O O O O B_director I_director\n",
       "1        O O O O B_movie I_movie\n",
       "2      O O O B_movie I_movie O O\n",
       "3                O O O B_movie O\n",
       "4              O O O O O B_movie"
      ]
     },
     "execution_count": 8,
     "metadata": {},
     "output_type": "execute_result"
    }
   ],
   "source": [
    "dev_tags = pd.read_csv(\"hw2_tags_dev.txt\", header=None)\n",
    "dev_tags.head(5)"
   ]
  },
  {
   "cell_type": "code",
   "execution_count": 9,
   "metadata": {},
   "outputs": [
    {
     "data": {
      "text/html": [
       "<div>\n",
       "<style>\n",
       "    .dataframe thead tr:only-child th {\n",
       "        text-align: right;\n",
       "    }\n",
       "\n",
       "    .dataframe thead th {\n",
       "        text-align: left;\n",
       "    }\n",
       "\n",
       "    .dataframe tbody tr th {\n",
       "        vertical-align: top;\n",
       "    }\n",
       "</style>\n",
       "<table border=\"1\" class=\"dataframe\">\n",
       "  <thead>\n",
       "    <tr style=\"text-align: right;\">\n",
       "      <th></th>\n",
       "      <th>0</th>\n",
       "    </tr>\n",
       "  </thead>\n",
       "  <tbody>\n",
       "    <tr>\n",
       "      <th>0</th>\n",
       "      <td>find out what language the father of my childr...</td>\n",
       "    </tr>\n",
       "    <tr>\n",
       "      <th>1</th>\n",
       "      <td>search for zombie movies</td>\n",
       "    </tr>\n",
       "    <tr>\n",
       "      <th>2</th>\n",
       "      <td>summary of star wars four</td>\n",
       "    </tr>\n",
       "    <tr>\n",
       "      <th>3</th>\n",
       "      <td>spain has how many movies</td>\n",
       "    </tr>\n",
       "    <tr>\n",
       "      <th>4</th>\n",
       "      <td>who stars in house at the end of the street</td>\n",
       "    </tr>\n",
       "  </tbody>\n",
       "</table>\n",
       "</div>"
      ],
      "text/plain": [
       "                                                   0\n",
       "0  find out what language the father of my childr...\n",
       "1                           search for zombie movies\n",
       "2                          summary of star wars four\n",
       "3                          spain has how many movies\n",
       "4        who stars in house at the end of the street"
      ]
     },
     "execution_count": 9,
     "metadata": {},
     "output_type": "execute_result"
    }
   ],
   "source": [
    "test = pd.read_csv(\"hw2_utterance_test.txt\", header=None)\n",
    "test.head(5)"
   ]
  },
  {
   "cell_type": "markdown",
   "metadata": {},
   "source": [
    "### split 10% from the train and not use it"
   ]
  },
  {
   "cell_type": "code",
   "execution_count": 93,
   "metadata": {
    "collapsed": true
   },
   "outputs": [],
   "source": [
    "df_train = pd.read_csv(\"./data/hw2_train_corrected.csv\")\n",
    "np.random.seed(0)\n",
    "holdout_size = int(df_train.shape[0]/10)\n",
    "holdout_idx = np.random.choice(df_train.index, size=holdout_size, replace=False)\n",
    "train_real_idx = [i for i in df_train.index if i not in holdout_idx]"
   ]
  },
  {
   "cell_type": "code",
   "execution_count": 94,
   "metadata": {
    "collapsed": true
   },
   "outputs": [],
   "source": [
    "df_train.loc[holdout_idx].to_csv(\"./data/holdout.csv\", index=None)\n",
    "df_train.loc[train_real_idx].to_csv(\"./data/train_real.csv\", index=None)"
   ]
  },
  {
   "cell_type": "markdown",
   "metadata": {},
   "source": [
    "### A simple baseline where everything is \"O\" at each position"
   ]
  },
  {
   "cell_type": "code",
   "execution_count": 25,
   "metadata": {
    "collapsed": true
   },
   "outputs": [],
   "source": [
    "import evaluation"
   ]
  },
  {
   "cell_type": "code",
   "execution_count": 26,
   "metadata": {
    "collapsed": true
   },
   "outputs": [],
   "source": [
    "y_true = evaluation.opener(\"hw2_tags_dev.txt\")"
   ]
  },
  {
   "cell_type": "code",
   "execution_count": 29,
   "metadata": {},
   "outputs": [
    {
     "data": {
      "text/plain": [
       "O                 1382\n",
       "I_movie            140\n",
       "B_movie            135\n",
       "B_director          27\n",
       "I_director          24\n",
       "B_country           23\n",
       "B_mpaa_rating       19\n",
       "B_cast              17\n",
       "I_cast              17\n",
       "B_person            15\n",
       "B_producer          15\n",
       "I_producer          13\n",
       "B_subject           13\n",
       "I_release_year      12\n",
       "I_person            12\n",
       "B_genre             11\n",
       "B_release_year       8\n",
       "B_language           6\n",
       "B_char               5\n",
       "I_subject            4\n",
       "I_mpaa_rating        3\n",
       "B_location           3\n",
       "B_org                2\n",
       "I_gross_rev          2\n",
       "I_location           1\n",
       "B_gross_rev          1\n",
       "I_country            1\n",
       "I_genre              1\n",
       "Name: 0, dtype: int64"
      ]
     },
     "execution_count": 29,
     "metadata": {},
     "output_type": "execute_result"
    }
   ],
   "source": [
    "all_y_true = []\n",
    "for each_y in y_true:\n",
    "    all_y_true.extend(each_y)\n",
    "frequent_label = pd.DataFrame(all_y_true)[0].value_counts(); frequent_label"
   ]
  },
  {
   "cell_type": "code",
   "execution_count": 30,
   "metadata": {},
   "outputs": [
    {
     "name": "stdout",
     "output_type": "stream",
     "text": [
      "O 0\n",
      "I_movie 0\n",
      "B_movie 0.11316010058675607\n",
      "B_director 0.022632020117351215\n",
      "I_director 0\n",
      "B_country 0.019279128248113998\n",
      "B_mpaa_rating 0.015926236378876784\n",
      "B_cast 0.014249790444258174\n",
      "I_cast 0\n",
      "B_person 0.012573344509639565\n",
      "B_producer 0.012573344509639565\n",
      "I_producer 0\n",
      "B_subject 0.010896898575020957\n",
      "I_release_year 0\n",
      "I_person 0\n",
      "B_genre 0.009220452640402348\n",
      "B_release_year 0.0067057837384744325\n",
      "B_language 0.005029337803855826\n",
      "B_char 0.004191114836546521\n",
      "I_subject 0\n",
      "I_mpaa_rating 0\n",
      "B_location 0.002514668901927913\n",
      "B_org 0.0016764459346186081\n",
      "I_gross_rev 0\n",
      "I_location 0\n",
      "B_gross_rev 0.0008382229673093041\n",
      "I_country 0\n",
      "I_genre 0\n"
     ]
    }
   ],
   "source": [
    "for each_label in frequent_label.index:\n",
    "    y_pred = [[each_label] * len(i) for i in y_true]\n",
    "    print(each_label, evaluation.f1_score(y_true, y_pred))"
   ]
  },
  {
   "cell_type": "markdown",
   "metadata": {},
   "source": [
    "### Experiment with evaluation.py vs seqeval.metric"
   ]
  },
  {
   "cell_type": "code",
   "execution_count": 124,
   "metadata": {
    "collapsed": true
   },
   "outputs": [],
   "source": [
    "import seqeval"
   ]
  },
  {
   "cell_type": "code",
   "execution_count": 160,
   "metadata": {},
   "outputs": [],
   "source": [
    "y_true = [[\"O\", \"O\", \"O\"], [\"O\", \"B\"]]\n",
    "y_pred = [[\"O\", \"O\", \"O\"], [\"O\", \"B\"]]"
   ]
  },
  {
   "cell_type": "code",
   "execution_count": 161,
   "metadata": {
    "scrolled": true
   },
   "outputs": [
    {
     "data": {
      "text/plain": [
       "1.0"
      ]
     },
     "execution_count": 161,
     "metadata": {},
     "output_type": "execute_result"
    }
   ],
   "source": [
    "evaluation.f1_score(y_true, y_pred)"
   ]
  },
  {
   "cell_type": "code",
   "execution_count": 162,
   "metadata": {},
   "outputs": [
    {
     "data": {
      "text/plain": [
       "1.0"
      ]
     },
     "execution_count": 162,
     "metadata": {},
     "output_type": "execute_result"
    }
   ],
   "source": [
    "seqeval.metrics.f1_score(y_true, y_pred)"
   ]
  },
  {
   "cell_type": "markdown",
   "metadata": {},
   "source": [
    "### Turn labels into index"
   ]
  },
  {
   "cell_type": "code",
   "execution_count": 87,
   "metadata": {
    "collapsed": true
   },
   "outputs": [],
   "source": [
    "df = pd.read_csv(\"./data/hw2_train.csv\")\n",
    "df_val = pd.read_csv(\"./hw2_tags_dev.txt\", header=None)"
   ]
  },
  {
   "cell_type": "code",
   "execution_count": 93,
   "metadata": {
    "collapsed": true
   },
   "outputs": [],
   "source": [
    "labels = sorted(list(set(\" \".join(df[\"IOB Slot tags\"]).split(\" \"))))\n",
    "labels_val = sorted(list(set(\" \".join(df_val[0]).split(\" \"))))"
   ]
  },
  {
   "cell_type": "code",
   "execution_count": 94,
   "metadata": {},
   "outputs": [
    {
     "data": {
      "text/plain": [
       "['B_gross_rev', 'B_org', 'I_gross_rev', 'I_location']"
      ]
     },
     "execution_count": 94,
     "metadata": {},
     "output_type": "execute_result"
    }
   ],
   "source": [
    "[i for i in labels_val if i not in labels]"
   ]
  },
  {
   "cell_type": "code",
   "execution_count": 95,
   "metadata": {},
   "outputs": [
    {
     "data": {
      "text/plain": [
       "['I-movie', 'I_char', 'I_language']"
      ]
     },
     "execution_count": 95,
     "metadata": {},
     "output_type": "execute_result"
    }
   ],
   "source": [
    "[i for i in labels if i not in labels_val]"
   ]
  },
  {
   "cell_type": "code",
   "execution_count": 35,
   "metadata": {
    "collapsed": true
   },
   "outputs": [],
   "source": [
    "# the validation label that is not found in train are saved to <UNK>"
   ]
  },
  {
   "cell_type": "markdown",
   "metadata": {},
   "source": [
    "### Find out cases where number of text and number of tags differ "
   ]
  },
  {
   "cell_type": "code",
   "execution_count": 87,
   "metadata": {
    "collapsed": true
   },
   "outputs": [],
   "source": [
    "df_train = pd.read_csv(\"./data/hw2_train.csv\")"
   ]
  },
  {
   "cell_type": "code",
   "execution_count": 88,
   "metadata": {
    "collapsed": true
   },
   "outputs": [],
   "source": [
    "count = lambda x:len(x.split(\" \"))\n",
    "def replacer(text):\n",
    "    text = text.replace(\"I 'd\", \"I'd\").replace(\"i 'd\", \"i'd\")\n",
    "    text = text.replace(\"i 'm\", \"i'm\")\n",
    "    text = text.replace(\"charlie 's angels\", \"charlie's angels\")\n",
    "    return text\n",
    "\n",
    "df_train[\"utterances\"] = df_train.utterances.apply(replacer)\n",
    "df_train.loc[1881, \"IOB Slot tags\"] = \"O O O O O B_person I_person\"\n",
    "df_train.loc[1059, \"IOB Slot tags\"] = \"O O O O O B_movie I_movie I_movie\"\n",
    "df_train.loc[614, \"IOB Slot tags\"] = \"B_movie O O O\"\n",
    "df_train.loc[21, \"IOB Slot tags\"] = \"O O O O O B_movie I_movie I_movie\"\n",
    "df_train.loc[25, \"IOB Slot tags\"] = \"O O B_person I_person O O O B_movie I_movie I_movie\"\n",
    "df_train.loc[62, \"IOB Slot tags\"] = \"O O O O O O O O B_movie I_movie\"\n",
    "df_train.loc[612, \"IOB Slot tags\"] = \"O O O O O O O B_movie I_movie I_movie I_movie\""
   ]
  },
  {
   "cell_type": "code",
   "execution_count": 91,
   "metadata": {
    "collapsed": true
   },
   "outputs": [],
   "source": [
    "df_train.to_csv(\"./data/hw2_train_corrected.csv\", index=None)"
   ]
  },
  {
   "cell_type": "code",
   "execution_count": 92,
   "metadata": {
    "collapsed": true
   },
   "outputs": [],
   "source": [
    "df_val = pd.read_csv(\"./hw2_utterance_dev.txt\", names=[\"utterances\"]).join(\n",
    "        pd.read_csv(\"./hw2_tags_dev.txt\", names=[\"IOB Slot tags\"]))"
   ]
  },
  {
   "cell_type": "code",
   "execution_count": 80,
   "metadata": {},
   "outputs": [
    {
     "data": {
      "text/html": [
       "<div>\n",
       "<style>\n",
       "    .dataframe thead tr:only-child th {\n",
       "        text-align: right;\n",
       "    }\n",
       "\n",
       "    .dataframe thead th {\n",
       "        text-align: left;\n",
       "    }\n",
       "\n",
       "    .dataframe tbody tr th {\n",
       "        vertical-align: top;\n",
       "    }\n",
       "</style>\n",
       "<table border=\"1\" class=\"dataframe\">\n",
       "  <thead>\n",
       "    <tr style=\"text-align: right;\">\n",
       "      <th></th>\n",
       "      <th>utterances</th>\n",
       "      <th>IOB Slot tags</th>\n",
       "    </tr>\n",
       "  </thead>\n",
       "  <tbody>\n",
       "    <tr>\n",
       "      <th>31</th>\n",
       "      <td>who played the female lead in hitch</td>\n",
       "      <td>O O O O O O B_movie</td>\n",
       "    </tr>\n",
       "  </tbody>\n",
       "</table>\n",
       "</div>"
      ],
      "text/plain": [
       "                             utterances        IOB Slot tags\n",
       "31  who played the female lead in hitch  O O O O O O B_movie"
      ]
     },
     "execution_count": 80,
     "metadata": {},
     "output_type": "execute_result"
    }
   ],
   "source": [
    "df_val[df_val.utterances.str.contains(\"lead\")]"
   ]
  },
  {
   "cell_type": "markdown",
   "metadata": {
    "collapsed": true
   },
   "source": [
    "### look for errors in train labeling and correct them\n"
   ]
  },
  {
   "cell_type": "code",
   "execution_count": 116,
   "metadata": {
    "scrolled": true
   },
   "outputs": [
    {
     "data": {
      "text/html": [
       "<div>\n",
       "<style>\n",
       "    .dataframe thead tr:only-child th {\n",
       "        text-align: right;\n",
       "    }\n",
       "\n",
       "    .dataframe thead th {\n",
       "        text-align: left;\n",
       "    }\n",
       "\n",
       "    .dataframe tbody tr th {\n",
       "        vertical-align: top;\n",
       "    }\n",
       "</style>\n",
       "<table border=\"1\" class=\"dataframe\">\n",
       "  <thead>\n",
       "    <tr style=\"text-align: right;\">\n",
       "      <th></th>\n",
       "      <th>utterances</th>\n",
       "      <th>IOB Slot tags</th>\n",
       "    </tr>\n",
       "  </thead>\n",
       "  <tbody>\n",
       "    <tr>\n",
       "      <th>428</th>\n",
       "      <td>when was the first hunger games shown</td>\n",
       "      <td>O O B_movie O I_movie I_movie O</td>\n",
       "    </tr>\n",
       "    <tr>\n",
       "      <th>470</th>\n",
       "      <td>who directed the movie</td>\n",
       "      <td>O O I_movie O</td>\n",
       "    </tr>\n",
       "    <tr>\n",
       "      <th>612</th>\n",
       "      <td>what is the director 's name of lord of the rings</td>\n",
       "      <td>O O I_movie O O I_movie I_movie I_movie I_movi...</td>\n",
       "    </tr>\n",
       "    <tr>\n",
       "      <th>672</th>\n",
       "      <td>language of sound of music</td>\n",
       "      <td>O I_movie I_movie I_movie I_movie</td>\n",
       "    </tr>\n",
       "    <tr>\n",
       "      <th>1703</th>\n",
       "      <td>run a search for star wars four</td>\n",
       "      <td>O I_movie O O B_movie I_movie I_movie</td>\n",
       "    </tr>\n",
       "    <tr>\n",
       "      <th>2092</th>\n",
       "      <td>can you show me the name of the producer for c...</td>\n",
       "      <td>O O O O O O O O O O I_movie I_movie I_movie I_...</td>\n",
       "    </tr>\n",
       "  </tbody>\n",
       "</table>\n",
       "</div>"
      ],
      "text/plain": [
       "                                             utterances  \\\n",
       "428               when was the first hunger games shown   \n",
       "470                              who directed the movie   \n",
       "612   what is the director 's name of lord of the rings   \n",
       "672                          language of sound of music   \n",
       "1703                    run a search for star wars four   \n",
       "2092  can you show me the name of the producer for c...   \n",
       "\n",
       "                                          IOB Slot tags  \n",
       "428                     O O B_movie O I_movie I_movie O  \n",
       "470                                       O O I_movie O  \n",
       "612   O O I_movie O O I_movie I_movie I_movie I_movi...  \n",
       "672                   O I_movie I_movie I_movie I_movie  \n",
       "1703              O I_movie O O B_movie I_movie I_movie  \n",
       "2092  O O O O O O O O O O I_movie I_movie I_movie I_...  "
      ]
     },
     "execution_count": 116,
     "metadata": {},
     "output_type": "execute_result"
    }
   ],
   "source": [
    "df_train = pd.read_csv(\"./data/hw2_train.csv\")\n",
    "df_train[df_train[\"IOB Slot tags\"].str.contains(\"O I\")]"
   ]
  },
  {
   "cell_type": "code",
   "execution_count": 111,
   "metadata": {
    "collapsed": true
   },
   "outputs": [],
   "source": [
    "df_train.loc[428, \"IOB Slot tags\"] = \"O O O O B_movie I_movie O\"\n",
    "df_train.loc[470, \"IOB Slot tags\"] = \"O O O O\"\n",
    "df_train.loc[1703, \"IOB Slot tags\"] = \"O O O O B_movie I_movie I_movie\"\n",
    "df_train.loc[2092, \"IOB Slot tags\"] = \"O O O O O O O O O O B_movie I_movie I_movie I_movie\"\n",
    "df_train.loc[672, \"IOB Slot tags\"] = \"O O B_movie I_movie I_movie\""
   ]
  },
  {
   "cell_type": "code",
   "execution_count": 114,
   "metadata": {
    "collapsed": true
   },
   "outputs": [],
   "source": [
    "df_train.to_csv(\"./data/hw2_train_corrected.csv\", index=None)"
   ]
  },
  {
   "cell_type": "code",
   "execution_count": 118,
   "metadata": {},
   "outputs": [
    {
     "data": {
      "text/html": [
       "<div>\n",
       "<style>\n",
       "    .dataframe thead tr:only-child th {\n",
       "        text-align: right;\n",
       "    }\n",
       "\n",
       "    .dataframe thead th {\n",
       "        text-align: left;\n",
       "    }\n",
       "\n",
       "    .dataframe tbody tr th {\n",
       "        vertical-align: top;\n",
       "    }\n",
       "</style>\n",
       "<table border=\"1\" class=\"dataframe\">\n",
       "  <thead>\n",
       "    <tr style=\"text-align: right;\">\n",
       "      <th></th>\n",
       "      <th>utterances</th>\n",
       "      <th>IOB Slot tags</th>\n",
       "    </tr>\n",
       "  </thead>\n",
       "  <tbody>\n",
       "    <tr>\n",
       "      <th>86</th>\n",
       "      <td>how many scorsese films were filmed in france</td>\n",
       "      <td>O O I_producer O O O O B_location</td>\n",
       "    </tr>\n",
       "    <tr>\n",
       "      <th>282</th>\n",
       "      <td>who played mother in tarkovsky 's mirror</td>\n",
       "      <td>O O B_char O B_director O I_movie</td>\n",
       "    </tr>\n",
       "  </tbody>\n",
       "</table>\n",
       "</div>"
      ],
      "text/plain": [
       "                                        utterances  \\\n",
       "86   how many scorsese films were filmed in france   \n",
       "282       who played mother in tarkovsky 's mirror   \n",
       "\n",
       "                         IOB Slot tags  \n",
       "86   O O I_producer O O O O B_location  \n",
       "282  O O B_char O B_director O I_movie  "
      ]
     },
     "execution_count": 118,
     "metadata": {},
     "output_type": "execute_result"
    }
   ],
   "source": [
    "df_val[df_val[\"IOB Slot tags\"].str.contains(\"O I\")]"
   ]
  },
  {
   "cell_type": "markdown",
   "metadata": {},
   "source": [
    "### fasttext vocab filtering"
   ]
  },
  {
   "cell_type": "code",
   "execution_count": 6,
   "metadata": {
    "collapsed": true
   },
   "outputs": [],
   "source": [
    "vocab = np.load(\"./data/vocab.npy\")"
   ]
  },
  {
   "cell_type": "code",
   "execution_count": 7,
   "metadata": {},
   "outputs": [
    {
     "name": "stdout",
     "output_type": "stream",
     "text": [
      "10000,20000,30000,40000,50000,60000,70000,80000,90000,100000,110000,120000,130000,140000,150000,160000,170000,180000,190000,200000,210000,220000,230000,240000,250000,260000,270000,280000,290000,300000,310000,320000,330000,340000,350000,360000,370000,380000,390000,400000,410000,420000,430000,440000,450000,460000,470000,480000,490000,500000,510000,520000,530000,540000,550000,560000,570000,580000,590000,600000,610000,620000,630000,640000,650000,660000,670000,680000,690000,700000,710000,720000,730000,740000,750000,760000,770000,780000,790000,800000,810000,820000,830000,840000,850000,860000,870000,880000,890000,900000,910000,920000,930000,940000,950000,960000,970000,980000,990000,1000000,1010000,1020000,1030000,1040000,1050000,1060000,1070000,1080000,1090000,1100000,1110000,1120000,1130000,1140000,1150000,1160000,1170000,1180000,1190000,1200000,1210000,1220000,1230000,1240000,1250000,1260000,1270000,1280000,1290000,1300000,1310000,1320000,1330000,1340000,1350000,1360000,1370000,1380000,1390000,1400000,1410000,1420000,1430000,1440000,1450000,1460000,1470000,1480000,1490000,1500000,1510000,1520000,1530000,1540000,1550000,1560000,1570000,1580000,1590000,1600000,1610000,1620000,1630000,1640000,1650000,1660000,1670000,1680000,1690000,1700000,1710000,1720000,1730000,1740000,1750000,1760000,1770000,1780000,1790000,1800000,1810000,1820000,1830000,1840000,1850000,1860000,1870000,1880000,1890000,1900000,1910000,1920000,1930000,1940000,1950000,1960000,1970000,1980000,1990000,2000000,"
     ]
    }
   ],
   "source": [
    "f = open(\"../fasttext/crawl-300d-2M-subword.vec\", \"r\", encoding=\"utf-8\")\n",
    "f_out = open(\"../fasttext/hw1_vocab.vec\", \"w\")\n",
    "f_out.write(\"{} {}\\n\".format(len(vocab), 300))\n",
    "d = {}\n",
    "for i, line in enumerate(f):\n",
    "    if i == 0:\n",
    "        continue\n",
    "    if i % 10000 == 0:\n",
    "        print(i, end=\",\")\n",
    "    word = line.split(\" \")[0]\n",
    "    if word in vocab:\n",
    "        d[word] = line.strip().split(' ')\n",
    "        f_out.write(line)\n",
    "    if len(d) == len(vocab):\n",
    "        break\n",
    "f.close()\n",
    "f_out.close()"
   ]
  },
  {
   "cell_type": "code",
   "execution_count": 9,
   "metadata": {
    "collapsed": true
   },
   "outputs": [],
   "source": [
    "pickle.dump(d, open(\"./data/vocab_ft.pkl\", \"wb\"))"
   ]
  },
  {
   "cell_type": "code",
   "execution_count": null,
   "metadata": {
    "collapsed": true
   },
   "outputs": [],
   "source": [
    "train_val_data, holdout_test_data, test_data = data_utils.prep_all_data(\n",
    "    data_path, train_val_file, holdout_test_file, test_file, \n",
    "    batch_size=BATCH_SIZE)\n",
    "vocab = train_val_data.text_field.vocab.itos\n",
    "ft_emb = pickle.load(open(\"./data/vocab_ft.pkl\", \"rb\"))\n",
    "emb_matrix = []\n",
    "for word in vocab:\n",
    "    if word in ft_emb:\n",
    "        vec = ft_emb[word][1:]\n",
    "        emb_matrix.append([float(i) for i in vec])\n",
    "    else:\n",
    "        vec = [np.random.normal() for i in range(300)]\n",
    "        emb_matrix.append(vec)\n",
    "emb_matrix = torch.tensor(emb_matrix)\n",
    "torch.save(emb_matrix, \"./data/emb_matrix_ft.pt\")"
   ]
  },
  {
   "cell_type": "code",
   "execution_count": 13,
   "metadata": {
    "collapsed": true
   },
   "outputs": [],
   "source": [
    "# same for label vocab\n",
    "label_vocab = np.load(\"./data/label_vocab.npy\")\n",
    "f = open(\"../fasttext/hw1_label_vocab.vec\", \"r\")\n",
    "d = {}\n",
    "for i, line in enumerate(f):\n",
    "    if i == 0:\n",
    "        continue\n",
    "    word, vec = line.split(\" \")[0], line.split(\" \")[1:]\n",
    "    vec = [float(i) for i in vec]\n",
    "    d[word] = vec\n",
    "f.close()"
   ]
  },
  {
   "cell_type": "code",
   "execution_count": 15,
   "metadata": {},
   "outputs": [
    {
     "data": {
      "text/plain": [
       "48"
      ]
     },
     "execution_count": 15,
     "metadata": {},
     "output_type": "execute_result"
    }
   ],
   "source": [
    "len(label_vocab)"
   ]
  },
  {
   "cell_type": "code",
   "execution_count": 16,
   "metadata": {},
   "outputs": [
    {
     "data": {
      "text/plain": [
       "48"
      ]
     },
     "execution_count": 16,
     "metadata": {},
     "output_type": "execute_result"
    }
   ],
   "source": [
    "len(d)"
   ]
  },
  {
   "cell_type": "code",
   "execution_count": 14,
   "metadata": {
    "collapsed": true
   },
   "outputs": [],
   "source": [
    "pickle.dump(d, open(\"./data/label_vocab_ft.pkl\", \"wb\"))"
   ]
  },
  {
   "cell_type": "markdown",
   "metadata": {
    "collapsed": true
   },
   "source": [
    "### add hand craft features"
   ]
  },
  {
   "cell_type": "code",
   "execution_count": 3,
   "metadata": {
    "collapsed": true
   },
   "outputs": [],
   "source": [
    "df = pd.read_csv(\"./data/original_data/hw1_train.csv\")"
   ]
  },
  {
   "cell_type": "code",
   "execution_count": 5,
   "metadata": {
    "collapsed": true
   },
   "outputs": [],
   "source": [
    "labels = np.load(\"./data/labels.npy\")"
   ]
  },
  {
   "cell_type": "code",
   "execution_count": 15,
   "metadata": {
    "collapsed": true
   },
   "outputs": [],
   "source": [
    "label_words = []\n",
    "for i in labels:\n",
    "    for j in i.split(\".\"):\n",
    "        if j not in label_words and j not in [\"NO_REL\", \"other\", \"gr\", \"rt\"]:\n",
    "            label_words.append(j)"
   ]
  },
  {
   "cell_type": "code",
   "execution_count": 16,
   "metadata": {
    "collapsed": true
   },
   "outputs": [],
   "source": [
    "# max cosine simiarity between word and potential label"
   ]
  },
  {
   "cell_type": "markdown",
   "metadata": {},
   "source": [
    "### create a feature to link label meaning to text"
   ]
  },
  {
   "cell_type": "code",
   "execution_count": 4,
   "metadata": {
    "collapsed": true
   },
   "outputs": [],
   "source": [
    "train_df = pd.read_csv(\"./data/train_real.csv\")"
   ]
  },
  {
   "cell_type": "code",
   "execution_count": 3,
   "metadata": {
    "collapsed": true
   },
   "outputs": [],
   "source": [
    "labels = np.load(\"./data/labels.npy\")"
   ]
  },
  {
   "cell_type": "code",
   "execution_count": 55,
   "metadata": {},
   "outputs": [
    {
     "data": {
      "text/plain": [
       "(None, None)"
      ]
     },
     "execution_count": 55,
     "metadata": {},
     "output_type": "execute_result"
    }
   ],
   "source": [
    "label_words = [re.split(\"\\.|_\", i) for i in labels]\n",
    "words = []\n",
    "for i in label_words:\n",
    "    words.extend(i)\n",
    "words = sorted(list(set(words)))\n",
    "    \n",
    "words.remove(\"REL\")\n",
    "words.remove(\"NO\")\n",
    "words.remove(\"gr\")\n",
    "words.remove(\"rt\")\n",
    "words.remove(\"nom\"), words.append(\"nomination\")"
   ]
  },
  {
   "cell_type": "code",
   "execution_count": 67,
   "metadata": {
    "collapsed": true
   },
   "outputs": [],
   "source": [
    "np.save(\"./data/label_vocab\", np.array(words))"
   ]
  },
  {
   "cell_type": "code",
   "execution_count": 66,
   "metadata": {
    "collapsed": true
   },
   "outputs": [],
   "source": [
    "vocab = np.load(\"./data/vocab.npy\")\n",
    "np.save(\"./data/label_vocab_restrict\", np.array([i for i in words if i in vocab]))"
   ]
  },
  {
   "cell_type": "code",
   "execution_count": 60,
   "metadata": {},
   "outputs": [
    {
     "name": "stdout",
     "output_type": "stream",
     "text": [
      "10000,"
     ]
    }
   ],
   "source": [
    "f = open(\"../fasttext/crawl-300d-2M-subword.vec\", \"r\", encoding=\"utf-8\")\n",
    "f_out = open(\"../fasttext/hw1_label_vocab.vec\", \"w\")\n",
    "f_out.write(\"{} {}\\n\".format(len(words), 300))\n",
    "d = {}\n",
    "for i, line in enumerate(f):\n",
    "    if i == 0:\n",
    "        continue\n",
    "    if i % 10000 == 0:\n",
    "        print(i, end=\",\")\n",
    "    word = line.split(\" \")[0]\n",
    "    if word in words:\n",
    "        d[word] = line.strip().split(' ')\n",
    "        f_out.write(line)\n",
    "    if len(d) == len(words):\n",
    "        break\n",
    "f.close()\n",
    "f_out.close()"
   ]
  },
  {
   "cell_type": "code",
   "execution_count": 65,
   "metadata": {},
   "outputs": [
    {
     "data": {
      "text/plain": [
       "array(['actor', 'amount', 'award', 'budget', 'by', 'category',\n",
       "       'character', 'companies', 'country', 'date', 'description',\n",
       "       'directed', 'director', 'genre', 'gross', 'language', 'locations',\n",
       "       'media', 'movie', 'music', 'of', 'other', 'person', 'picture',\n",
       "       'produced', 'production', 'rating', 'release', 'revenue', 'review',\n",
       "       'showing', 'star', 'starring', 'synopsis', 'trailer', 'winning',\n",
       "       'work', 'written'], dtype='<U11')"
      ]
     },
     "execution_count": 65,
     "metadata": {},
     "output_type": "execute_result"
    }
   ],
   "source": [
    "np.load(\"./data/label_vocab_restrict.np.npy\")"
   ]
  },
  {
   "cell_type": "markdown",
   "metadata": {
    "collapsed": true
   },
   "source": [
    "### see what labels co-occur"
   ]
  },
  {
   "cell_type": "code",
   "execution_count": 8,
   "metadata": {
    "collapsed": true
   },
   "outputs": [],
   "source": [
    "train_df = pd.read_csv(\"./data/train_real.csv\")"
   ]
  },
  {
   "cell_type": "code",
   "execution_count": 11,
   "metadata": {
    "collapsed": true
   },
   "outputs": [],
   "source": [
    "train_df[\"num_label\"] = train_df.raw_label.apply(lambda x: len(x.split(\" \")))"
   ]
  },
  {
   "cell_type": "code",
   "execution_count": 18,
   "metadata": {},
   "outputs": [
    {
     "data": {
      "text/plain": [
       "1    224\n",
       "Name: num_label, dtype: int64"
      ]
     },
     "execution_count": 18,
     "metadata": {},
     "output_type": "execute_result"
    }
   ],
   "source": [
    "train_df[train_df.raw_label.apply(lambda x: \"other\" in x)].num_label.value_counts()"
   ]
  },
  {
   "cell_type": "code",
   "execution_count": 19,
   "metadata": {},
   "outputs": [
    {
     "data": {
      "text/plain": [
       "1    263\n",
       "Name: num_label, dtype: int64"
      ]
     },
     "execution_count": 19,
     "metadata": {},
     "output_type": "execute_result"
    }
   ],
   "source": [
    "train_df[train_df.raw_label.apply(lambda x: \"NO_REL\" in x)].num_label.value_counts()"
   ]
  },
  {
   "cell_type": "code",
   "execution_count": 20,
   "metadata": {
    "collapsed": true
   },
   "outputs": [],
   "source": [
    "labels = np.load(\"./data/labels.npy\")"
   ]
  },
  {
   "cell_type": "code",
   "execution_count": 21,
   "metadata": {},
   "outputs": [
    {
     "data": {
      "text/plain": [
       "(array([0]),)"
      ]
     },
     "execution_count": 21,
     "metadata": {},
     "output_type": "execute_result"
    }
   ],
   "source": [
    "np.where(labels==\"NO_REL\")"
   ]
  },
  {
   "cell_type": "code",
   "execution_count": 22,
   "metadata": {},
   "outputs": [
    {
     "data": {
      "text/plain": [
       "(array([37]),)"
      ]
     },
     "execution_count": 22,
     "metadata": {},
     "output_type": "execute_result"
    }
   ],
   "source": [
    "np.where(labels==\"other\")"
   ]
  },
  {
   "cell_type": "code",
   "execution_count": 28,
   "metadata": {},
   "outputs": [
    {
     "data": {
      "text/plain": [
       "array([2, 3, 4])"
      ]
     },
     "execution_count": 28,
     "metadata": {},
     "output_type": "execute_result"
    }
   ],
   "source": [
    "np.delete(np.arange(5), [0, 1])"
   ]
  },
  {
   "cell_type": "markdown",
   "metadata": {
    "collapsed": true
   },
   "source": [
    "### N GRAM"
   ]
  },
  {
   "cell_type": "code",
   "execution_count": 3,
   "metadata": {},
   "outputs": [
    {
     "data": {
      "text/plain": [
       "1977"
      ]
     },
     "execution_count": 3,
     "metadata": {},
     "output_type": "execute_result"
    }
   ],
   "source": [
    "# unigram is the same as vocab \n",
    "vocab = np.load(\"./data/vocab.npy\"); len(vocab)"
   ]
  },
  {
   "cell_type": "code",
   "execution_count": 36,
   "metadata": {},
   "outputs": [
    {
     "name": "stdout",
     "output_type": "stream",
     "text": [
      "(3338, 4)\n",
      "(1084, 4)\n",
      "(4422, 4)\n"
     ]
    }
   ],
   "source": [
    "# bigram\n",
    "df1 = pd.read_csv(\"./data/train.csv\", index_col=\"ID\")\n",
    "df2 = pd.read_csv(\"./data/test.csv\", index_col=\"ID\")\n",
    "df = pd.concat([df1, df2])\n",
    "print(df1.shape)\n",
    "print(df2.shape)\n",
    "print(df.shape)"
   ]
  },
  {
   "cell_type": "code",
   "execution_count": 43,
   "metadata": {
    "collapsed": true
   },
   "outputs": [],
   "source": [
    "def get_ngram(sent, gram):\n",
    "    words = re.split(\"'| \", sent.lower())\n",
    "    if len(words) < gram:\n",
    "        return []\n",
    "    ngrams = []\n",
    "    for i in range(len(words)-(gram-1)):\n",
    "        ngrams.append(\"_\".join(words[i:i+gram]))\n",
    "    return ngrams"
   ]
  },
  {
   "cell_type": "code",
   "execution_count": 44,
   "metadata": {
    "collapsed": true
   },
   "outputs": [],
   "source": [
    "def save_ngram(df, n=2):\n",
    "    all_ngrams = []\n",
    "    for ngrams in df.raw_text.apply(lambda x: get_ngram(x, n)):\n",
    "        all_ngrams.extend(ngrams)\n",
    "    all_ngrams = np.array(sorted(list(set(all_ngrams))))\n",
    "    np.save(\"./data/{}grams.npy\".format(n), all_ngrams)\n",
    "    print(\"number of {} grams: {}\".format(n, len(all_ngrams)))\n",
    "    return all_ngrams"
   ]
  },
  {
   "cell_type": "code",
   "execution_count": 45,
   "metadata": {},
   "outputs": [
    {
     "name": "stdout",
     "output_type": "stream",
     "text": [
      "number of 1 grams: 1977\n",
      "number of 2 grams: 6950\n",
      "number of 3 grams: 10113\n",
      "number of 4 grams: 10512\n"
     ]
    }
   ],
   "source": [
    "for n in range(1, 5):\n",
    "    save_ngram(df, n)"
   ]
  }
 ],
 "metadata": {
  "kernelspec": {
   "display_name": "Python 3",
   "language": "python",
   "name": "python3"
  },
  "language_info": {
   "codemirror_mode": {
    "name": "ipython",
    "version": 3
   },
   "file_extension": ".py",
   "mimetype": "text/x-python",
   "name": "python",
   "nbconvert_exporter": "python",
   "pygments_lexer": "ipython3",
   "version": "3.6.2"
  }
 },
 "nbformat": 4,
 "nbformat_minor": 2
}
