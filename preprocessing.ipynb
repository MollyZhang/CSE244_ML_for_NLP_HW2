{
 "cells": [
  {
   "cell_type": "code",
   "execution_count": 3,
   "metadata": {
    "collapsed": true
   },
   "outputs": [],
   "source": [
    "import pandas as pd\n",
    "import numpy as np\n",
    "import spacy\n",
    "import itertools\n",
    "import pickle\n",
    "import re"
   ]
  },
  {
   "cell_type": "markdown",
   "metadata": {},
   "source": [
    "### take a look at data"
   ]
  },
  {
   "cell_type": "code",
   "execution_count": 22,
   "metadata": {
    "collapsed": true
   },
   "outputs": [],
   "source": [
    "df_train = pd.read_csv(\"./data/hw2_train.csv\")"
   ]
  },
  {
   "cell_type": "code",
   "execution_count": 23,
   "metadata": {
    "scrolled": true
   },
   "outputs": [
    {
     "data": {
      "text/plain": [
       "(2312, 2)"
      ]
     },
     "execution_count": 23,
     "metadata": {},
     "output_type": "execute_result"
    }
   ],
   "source": [
    "df_train.shape"
   ]
  },
  {
   "cell_type": "code",
   "execution_count": 24,
   "metadata": {},
   "outputs": [
    {
     "data": {
      "text/html": [
       "<div>\n",
       "<style>\n",
       "    .dataframe thead tr:only-child th {\n",
       "        text-align: right;\n",
       "    }\n",
       "\n",
       "    .dataframe thead th {\n",
       "        text-align: left;\n",
       "    }\n",
       "\n",
       "    .dataframe tbody tr th {\n",
       "        vertical-align: top;\n",
       "    }\n",
       "</style>\n",
       "<table border=\"1\" class=\"dataframe\">\n",
       "  <thead>\n",
       "    <tr style=\"text-align: right;\">\n",
       "      <th></th>\n",
       "      <th>utterances</th>\n",
       "      <th>IOB Slot tags</th>\n",
       "    </tr>\n",
       "  </thead>\n",
       "  <tbody>\n",
       "    <tr>\n",
       "      <th>2263</th>\n",
       "      <td>list movie ratings for us movie looper</td>\n",
       "      <td>O O O O B_country O B_movie</td>\n",
       "    </tr>\n",
       "    <tr>\n",
       "      <th>309</th>\n",
       "      <td>origin of spanglish</td>\n",
       "      <td>O O B_movie</td>\n",
       "    </tr>\n",
       "    <tr>\n",
       "      <th>1144</th>\n",
       "      <td>ed harris films</td>\n",
       "      <td>B_person I_person O</td>\n",
       "    </tr>\n",
       "    <tr>\n",
       "      <th>1626</th>\n",
       "      <td>show me scifi fantasy movies</td>\n",
       "      <td>O O B_genre I_genre O</td>\n",
       "    </tr>\n",
       "    <tr>\n",
       "      <th>2058</th>\n",
       "      <td>show my spielberg info</td>\n",
       "      <td>O O B_person O</td>\n",
       "    </tr>\n",
       "  </tbody>\n",
       "</table>\n",
       "</div>"
      ],
      "text/plain": [
       "                                  utterances                IOB Slot tags\n",
       "2263  list movie ratings for us movie looper  O O O O B_country O B_movie\n",
       "309                      origin of spanglish                  O O B_movie\n",
       "1144                         ed harris films          B_person I_person O\n",
       "1626            show me scifi fantasy movies        O O B_genre I_genre O\n",
       "2058                  show my spielberg info               O O B_person O"
      ]
     },
     "execution_count": 24,
     "metadata": {},
     "output_type": "execute_result"
    }
   ],
   "source": [
    "df_train.sample(5)"
   ]
  },
  {
   "cell_type": "code",
   "execution_count": 7,
   "metadata": {},
   "outputs": [
    {
     "data": {
      "text/html": [
       "<div>\n",
       "<style>\n",
       "    .dataframe thead tr:only-child th {\n",
       "        text-align: right;\n",
       "    }\n",
       "\n",
       "    .dataframe thead th {\n",
       "        text-align: left;\n",
       "    }\n",
       "\n",
       "    .dataframe tbody tr th {\n",
       "        vertical-align: top;\n",
       "    }\n",
       "</style>\n",
       "<table border=\"1\" class=\"dataframe\">\n",
       "  <thead>\n",
       "    <tr style=\"text-align: right;\">\n",
       "      <th></th>\n",
       "      <th>0</th>\n",
       "    </tr>\n",
       "  </thead>\n",
       "  <tbody>\n",
       "    <tr>\n",
       "      <th>0</th>\n",
       "      <td>show me ones by david fincher</td>\n",
       "    </tr>\n",
       "    <tr>\n",
       "      <th>1</th>\n",
       "      <td>who is director of the words</td>\n",
       "    </tr>\n",
       "    <tr>\n",
       "      <th>2</th>\n",
       "      <td>what rating did the campaign movie get</td>\n",
       "    </tr>\n",
       "    <tr>\n",
       "      <th>3</th>\n",
       "      <td>how much did looper gross</td>\n",
       "    </tr>\n",
       "    <tr>\n",
       "      <th>4</th>\n",
       "      <td>what is the budget for epic</td>\n",
       "    </tr>\n",
       "  </tbody>\n",
       "</table>\n",
       "</div>"
      ],
      "text/plain": [
       "                                        0\n",
       "0           show me ones by david fincher\n",
       "1            who is director of the words\n",
       "2  what rating did the campaign movie get\n",
       "3               how much did looper gross\n",
       "4             what is the budget for epic"
      ]
     },
     "execution_count": 7,
     "metadata": {},
     "output_type": "execute_result"
    }
   ],
   "source": [
    "df_val = pd.read_csv(\"hw2_utterance_dev.txt\", header=None)\n",
    "df_val.head(5)"
   ]
  },
  {
   "cell_type": "code",
   "execution_count": 8,
   "metadata": {},
   "outputs": [
    {
     "data": {
      "text/html": [
       "<div>\n",
       "<style>\n",
       "    .dataframe thead tr:only-child th {\n",
       "        text-align: right;\n",
       "    }\n",
       "\n",
       "    .dataframe thead th {\n",
       "        text-align: left;\n",
       "    }\n",
       "\n",
       "    .dataframe tbody tr th {\n",
       "        vertical-align: top;\n",
       "    }\n",
       "</style>\n",
       "<table border=\"1\" class=\"dataframe\">\n",
       "  <thead>\n",
       "    <tr style=\"text-align: right;\">\n",
       "      <th></th>\n",
       "      <th>0</th>\n",
       "    </tr>\n",
       "  </thead>\n",
       "  <tbody>\n",
       "    <tr>\n",
       "      <th>0</th>\n",
       "      <td>O O O O B_director I_director</td>\n",
       "    </tr>\n",
       "    <tr>\n",
       "      <th>1</th>\n",
       "      <td>O O O O B_movie I_movie</td>\n",
       "    </tr>\n",
       "    <tr>\n",
       "      <th>2</th>\n",
       "      <td>O O O B_movie I_movie O O</td>\n",
       "    </tr>\n",
       "    <tr>\n",
       "      <th>3</th>\n",
       "      <td>O O O B_movie O</td>\n",
       "    </tr>\n",
       "    <tr>\n",
       "      <th>4</th>\n",
       "      <td>O O O O O B_movie</td>\n",
       "    </tr>\n",
       "  </tbody>\n",
       "</table>\n",
       "</div>"
      ],
      "text/plain": [
       "                               0\n",
       "0  O O O O B_director I_director\n",
       "1        O O O O B_movie I_movie\n",
       "2      O O O B_movie I_movie O O\n",
       "3                O O O B_movie O\n",
       "4              O O O O O B_movie"
      ]
     },
     "execution_count": 8,
     "metadata": {},
     "output_type": "execute_result"
    }
   ],
   "source": [
    "dev_tags = pd.read_csv(\"hw2_tags_dev.txt\", header=None)\n",
    "dev_tags.head(5)"
   ]
  },
  {
   "cell_type": "code",
   "execution_count": 9,
   "metadata": {},
   "outputs": [
    {
     "data": {
      "text/html": [
       "<div>\n",
       "<style>\n",
       "    .dataframe thead tr:only-child th {\n",
       "        text-align: right;\n",
       "    }\n",
       "\n",
       "    .dataframe thead th {\n",
       "        text-align: left;\n",
       "    }\n",
       "\n",
       "    .dataframe tbody tr th {\n",
       "        vertical-align: top;\n",
       "    }\n",
       "</style>\n",
       "<table border=\"1\" class=\"dataframe\">\n",
       "  <thead>\n",
       "    <tr style=\"text-align: right;\">\n",
       "      <th></th>\n",
       "      <th>0</th>\n",
       "    </tr>\n",
       "  </thead>\n",
       "  <tbody>\n",
       "    <tr>\n",
       "      <th>0</th>\n",
       "      <td>find out what language the father of my childr...</td>\n",
       "    </tr>\n",
       "    <tr>\n",
       "      <th>1</th>\n",
       "      <td>search for zombie movies</td>\n",
       "    </tr>\n",
       "    <tr>\n",
       "      <th>2</th>\n",
       "      <td>summary of star wars four</td>\n",
       "    </tr>\n",
       "    <tr>\n",
       "      <th>3</th>\n",
       "      <td>spain has how many movies</td>\n",
       "    </tr>\n",
       "    <tr>\n",
       "      <th>4</th>\n",
       "      <td>who stars in house at the end of the street</td>\n",
       "    </tr>\n",
       "  </tbody>\n",
       "</table>\n",
       "</div>"
      ],
      "text/plain": [
       "                                                   0\n",
       "0  find out what language the father of my childr...\n",
       "1                           search for zombie movies\n",
       "2                          summary of star wars four\n",
       "3                          spain has how many movies\n",
       "4        who stars in house at the end of the street"
      ]
     },
     "execution_count": 9,
     "metadata": {},
     "output_type": "execute_result"
    }
   ],
   "source": [
    "test = pd.read_csv(\"hw2_utterance_test.txt\", header=None)\n",
    "test.head(5)"
   ]
  },
  {
   "cell_type": "markdown",
   "metadata": {},
   "source": [
    "### split 10% from the train and not use it"
   ]
  },
  {
   "cell_type": "code",
   "execution_count": 4,
   "metadata": {},
   "outputs": [],
   "source": [
    "df_train = pd.read_csv(\"./data/hw2_train.csv\")\n",
    "np.random.seed(0)\n",
    "holdout_size = int(df_train.shape[0]/10)\n",
    "holdout_idx = np.random.choice(df_train.index, size=holdout_size, replace=False)\n",
    "train_real_idx = [i for i in df_train.index if i not in holdout_idx]"
   ]
  },
  {
   "cell_type": "code",
   "execution_count": 5,
   "metadata": {
    "collapsed": true
   },
   "outputs": [],
   "source": [
    "df_train.loc[holdout_idx].to_csv(\"./data/holdout_uncorrected.csv\", index=None)\n",
    "df_train.loc[train_real_idx].to_csv(\"./data/train_real_uncorrected.csv\", index=None)"
   ]
  },
  {
   "cell_type": "markdown",
   "metadata": {},
   "source": [
    "### look at training data label distribution"
   ]
  },
  {
   "cell_type": "code",
   "execution_count": 179,
   "metadata": {},
   "outputs": [
    {
     "data": {
      "text/html": [
       "<div>\n",
       "<style>\n",
       "    .dataframe thead tr:only-child th {\n",
       "        text-align: right;\n",
       "    }\n",
       "\n",
       "    .dataframe thead th {\n",
       "        text-align: left;\n",
       "    }\n",
       "\n",
       "    .dataframe tbody tr th {\n",
       "        vertical-align: top;\n",
       "    }\n",
       "</style>\n",
       "<table border=\"1\" class=\"dataframe\">\n",
       "  <thead>\n",
       "    <tr style=\"text-align: right;\">\n",
       "      <th></th>\n",
       "      <th>utterances</th>\n",
       "      <th>IOB Slot tags</th>\n",
       "    </tr>\n",
       "  </thead>\n",
       "  <tbody>\n",
       "    <tr>\n",
       "      <th>702</th>\n",
       "      <td>i want to know in what language was ju on filmed</td>\n",
       "      <td>O O O O O O O O B_movie I-movie O</td>\n",
       "    </tr>\n",
       "  </tbody>\n",
       "</table>\n",
       "</div>"
      ],
      "text/plain": [
       "                                           utterances  \\\n",
       "702  i want to know in what language was ju on filmed   \n",
       "\n",
       "                         IOB Slot tags  \n",
       "702  O O O O O O O O B_movie I-movie O  "
      ]
     },
     "execution_count": 179,
     "metadata": {},
     "output_type": "execute_result"
    }
   ],
   "source": [
    "# correct I-movie to I_movie\n",
    "df_train = pd.read_csv(\"./data/hw2_train_corrected.csv\")\n",
    "df_train[df_train[\"IOB Slot tags\"].str.contains(\"-\")]"
   ]
  },
  {
   "cell_type": "code",
   "execution_count": 180,
   "metadata": {
    "collapsed": true
   },
   "outputs": [],
   "source": [
    "df_train.loc[702, \"IOB Slot tags\"] = df_train.loc[702, \"IOB Slot tags\"].replace(\"-\", \"_\")\n",
    "df_train.to_csv(\"./data/hw2_train_corrected.csv\", index=None)"
   ]
  },
  {
   "cell_type": "code",
   "execution_count": 181,
   "metadata": {},
   "outputs": [
    {
     "data": {
      "text/plain": [
       "O                 10519\n",
       "I_movie            1138\n",
       "B_movie            1018\n",
       "B_person            195\n",
       "B_director          185\n",
       "I_person            176\n",
       "I_director          168\n",
       "B_producer          164\n",
       "B_country           153\n",
       "B_mpaa_rating       141\n",
       "B_language          119\n",
       "I_producer          114\n",
       "B_cast              106\n",
       "I_cast              105\n",
       "B_subject            95\n",
       "B_genre              71\n",
       "I_subject            33\n",
       "I_language           17\n",
       "B_char               15\n",
       "I_mpaa_rating        12\n",
       "I_country            12\n",
       "I_genre               5\n",
       "I_char                5\n",
       "B_release_year        5\n",
       "I_release_year        3\n",
       "B_location            2\n",
       "Name: 0, dtype: int64"
      ]
     },
     "execution_count": 181,
     "metadata": {},
     "output_type": "execute_result"
    }
   ],
   "source": [
    "all_y_true = []\n",
    "for each_y in df_train[\"IOB Slot tags\"]:\n",
    "    all_y_true.extend(each_y.split(\" \"))\n",
    "frequent_label = pd.DataFrame(all_y_true)[0].value_counts(); frequent_label"
   ]
  },
  {
   "cell_type": "code",
   "execution_count": 182,
   "metadata": {
    "scrolled": true
   },
   "outputs": [
    {
     "data": {
      "text/plain": [
       "26"
      ]
     },
     "execution_count": 182,
     "metadata": {},
     "output_type": "execute_result"
    }
   ],
   "source": [
    "len(list(frequent_label.index))"
   ]
  },
  {
   "cell_type": "markdown",
   "metadata": {},
   "source": [
    "### Experiment with evaluation.py vs seqeval.metric"
   ]
  },
  {
   "cell_type": "code",
   "execution_count": 184,
   "metadata": {
    "collapsed": true
   },
   "outputs": [],
   "source": [
    "import seqeval"
   ]
  },
  {
   "cell_type": "code",
   "execution_count": 185,
   "metadata": {
    "collapsed": true
   },
   "outputs": [],
   "source": [
    "y_true = [[\"O\", \"O\", \"O\"], [\"O\", \"B\"]]\n",
    "y_pred = [[\"O\", \"O\", \"O\"], [\"O\", \"B\"]]"
   ]
  },
  {
   "cell_type": "code",
   "execution_count": 186,
   "metadata": {
    "scrolled": true
   },
   "outputs": [
    {
     "data": {
      "text/plain": [
       "1.0"
      ]
     },
     "execution_count": 186,
     "metadata": {},
     "output_type": "execute_result"
    }
   ],
   "source": [
    "evaluation.f1_score(y_true, y_pred)"
   ]
  },
  {
   "cell_type": "code",
   "execution_count": 187,
   "metadata": {},
   "outputs": [
    {
     "data": {
      "text/plain": [
       "1.0"
      ]
     },
     "execution_count": 187,
     "metadata": {},
     "output_type": "execute_result"
    }
   ],
   "source": [
    "seqeval.metrics.f1_score(y_true, y_pred)"
   ]
  },
  {
   "cell_type": "markdown",
   "metadata": {},
   "source": [
    "### Turn labels into index"
   ]
  },
  {
   "cell_type": "code",
   "execution_count": 87,
   "metadata": {
    "collapsed": true
   },
   "outputs": [],
   "source": [
    "df = pd.read_csv(\"./data/hw2_train.csv\")\n",
    "df_val = pd.read_csv(\"./hw2_tags_dev.txt\", header=None)"
   ]
  },
  {
   "cell_type": "code",
   "execution_count": 93,
   "metadata": {
    "collapsed": true
   },
   "outputs": [],
   "source": [
    "labels = sorted(list(set(\" \".join(df[\"IOB Slot tags\"]).split(\" \"))))\n",
    "labels_val = sorted(list(set(\" \".join(df_val[0]).split(\" \"))))"
   ]
  },
  {
   "cell_type": "code",
   "execution_count": 94,
   "metadata": {},
   "outputs": [
    {
     "data": {
      "text/plain": [
       "['B_gross_rev', 'B_org', 'I_gross_rev', 'I_location']"
      ]
     },
     "execution_count": 94,
     "metadata": {},
     "output_type": "execute_result"
    }
   ],
   "source": [
    "[i for i in labels_val if i not in labels]"
   ]
  },
  {
   "cell_type": "code",
   "execution_count": 95,
   "metadata": {},
   "outputs": [
    {
     "data": {
      "text/plain": [
       "['I-movie', 'I_char', 'I_language']"
      ]
     },
     "execution_count": 95,
     "metadata": {},
     "output_type": "execute_result"
    }
   ],
   "source": [
    "[i for i in labels if i not in labels_val]"
   ]
  },
  {
   "cell_type": "code",
   "execution_count": 35,
   "metadata": {
    "collapsed": true
   },
   "outputs": [],
   "source": [
    "# the validation label that is not found in train are saved to <UNK>"
   ]
  },
  {
   "cell_type": "markdown",
   "metadata": {},
   "source": [
    "### Find out cases where number of text and number of tags differ "
   ]
  },
  {
   "cell_type": "code",
   "execution_count": 87,
   "metadata": {
    "collapsed": true
   },
   "outputs": [],
   "source": [
    "df_train = pd.read_csv(\"./data/hw2_train.csv\")"
   ]
  },
  {
   "cell_type": "code",
   "execution_count": 88,
   "metadata": {
    "collapsed": true
   },
   "outputs": [],
   "source": [
    "count = lambda x:len(x.split(\" \"))\n",
    "def replacer(text):\n",
    "    text = text.replace(\"I 'd\", \"I'd\").replace(\"i 'd\", \"i'd\")\n",
    "    text = text.replace(\"i 'm\", \"i'm\")\n",
    "    text = text.replace(\"charlie 's angels\", \"charlie's angels\")\n",
    "    return text\n",
    "\n",
    "df_train[\"utterances\"] = df_train.utterances.apply(replacer)\n",
    "df_train.loc[1881, \"IOB Slot tags\"] = \"O O O O O B_person I_person\"\n",
    "df_train.loc[1059, \"IOB Slot tags\"] = \"O O O O O B_movie I_movie I_movie\"\n",
    "df_train.loc[614, \"IOB Slot tags\"] = \"B_movie O O O\"\n",
    "df_train.loc[21, \"IOB Slot tags\"] = \"O O O O O B_movie I_movie I_movie\"\n",
    "df_train.loc[25, \"IOB Slot tags\"] = \"O O B_person I_person O O O B_movie I_movie I_movie\"\n",
    "df_train.loc[62, \"IOB Slot tags\"] = \"O O O O O O O O B_movie I_movie\"\n",
    "df_train.loc[612, \"IOB Slot tags\"] = \"O O O O O O O B_movie I_movie I_movie I_movie\""
   ]
  },
  {
   "cell_type": "code",
   "execution_count": 91,
   "metadata": {
    "collapsed": true
   },
   "outputs": [],
   "source": [
    "df_train.to_csv(\"./data/hw2_train_corrected.csv\", index=None)"
   ]
  },
  {
   "cell_type": "code",
   "execution_count": 92,
   "metadata": {
    "collapsed": true
   },
   "outputs": [],
   "source": [
    "df_val = pd.read_csv(\"./hw2_utterance_dev.txt\", names=[\"utterances\"]).join(\n",
    "        pd.read_csv(\"./hw2_tags_dev.txt\", names=[\"IOB Slot tags\"]))"
   ]
  },
  {
   "cell_type": "code",
   "execution_count": 80,
   "metadata": {},
   "outputs": [
    {
     "data": {
      "text/html": [
       "<div>\n",
       "<style>\n",
       "    .dataframe thead tr:only-child th {\n",
       "        text-align: right;\n",
       "    }\n",
       "\n",
       "    .dataframe thead th {\n",
       "        text-align: left;\n",
       "    }\n",
       "\n",
       "    .dataframe tbody tr th {\n",
       "        vertical-align: top;\n",
       "    }\n",
       "</style>\n",
       "<table border=\"1\" class=\"dataframe\">\n",
       "  <thead>\n",
       "    <tr style=\"text-align: right;\">\n",
       "      <th></th>\n",
       "      <th>utterances</th>\n",
       "      <th>IOB Slot tags</th>\n",
       "    </tr>\n",
       "  </thead>\n",
       "  <tbody>\n",
       "    <tr>\n",
       "      <th>31</th>\n",
       "      <td>who played the female lead in hitch</td>\n",
       "      <td>O O O O O O B_movie</td>\n",
       "    </tr>\n",
       "  </tbody>\n",
       "</table>\n",
       "</div>"
      ],
      "text/plain": [
       "                             utterances        IOB Slot tags\n",
       "31  who played the female lead in hitch  O O O O O O B_movie"
      ]
     },
     "execution_count": 80,
     "metadata": {},
     "output_type": "execute_result"
    }
   ],
   "source": [
    "df_val[df_val.utterances.str.contains(\"lead\")]"
   ]
  },
  {
   "cell_type": "markdown",
   "metadata": {
    "collapsed": true
   },
   "source": [
    "### look for errors in train labeling and correct them\n"
   ]
  },
  {
   "cell_type": "code",
   "execution_count": 116,
   "metadata": {
    "scrolled": true
   },
   "outputs": [
    {
     "data": {
      "text/html": [
       "<div>\n",
       "<style>\n",
       "    .dataframe thead tr:only-child th {\n",
       "        text-align: right;\n",
       "    }\n",
       "\n",
       "    .dataframe thead th {\n",
       "        text-align: left;\n",
       "    }\n",
       "\n",
       "    .dataframe tbody tr th {\n",
       "        vertical-align: top;\n",
       "    }\n",
       "</style>\n",
       "<table border=\"1\" class=\"dataframe\">\n",
       "  <thead>\n",
       "    <tr style=\"text-align: right;\">\n",
       "      <th></th>\n",
       "      <th>utterances</th>\n",
       "      <th>IOB Slot tags</th>\n",
       "    </tr>\n",
       "  </thead>\n",
       "  <tbody>\n",
       "    <tr>\n",
       "      <th>428</th>\n",
       "      <td>when was the first hunger games shown</td>\n",
       "      <td>O O B_movie O I_movie I_movie O</td>\n",
       "    </tr>\n",
       "    <tr>\n",
       "      <th>470</th>\n",
       "      <td>who directed the movie</td>\n",
       "      <td>O O I_movie O</td>\n",
       "    </tr>\n",
       "    <tr>\n",
       "      <th>612</th>\n",
       "      <td>what is the director 's name of lord of the rings</td>\n",
       "      <td>O O I_movie O O I_movie I_movie I_movie I_movi...</td>\n",
       "    </tr>\n",
       "    <tr>\n",
       "      <th>672</th>\n",
       "      <td>language of sound of music</td>\n",
       "      <td>O I_movie I_movie I_movie I_movie</td>\n",
       "    </tr>\n",
       "    <tr>\n",
       "      <th>1703</th>\n",
       "      <td>run a search for star wars four</td>\n",
       "      <td>O I_movie O O B_movie I_movie I_movie</td>\n",
       "    </tr>\n",
       "    <tr>\n",
       "      <th>2092</th>\n",
       "      <td>can you show me the name of the producer for c...</td>\n",
       "      <td>O O O O O O O O O O I_movie I_movie I_movie I_...</td>\n",
       "    </tr>\n",
       "  </tbody>\n",
       "</table>\n",
       "</div>"
      ],
      "text/plain": [
       "                                             utterances  \\\n",
       "428               when was the first hunger games shown   \n",
       "470                              who directed the movie   \n",
       "612   what is the director 's name of lord of the rings   \n",
       "672                          language of sound of music   \n",
       "1703                    run a search for star wars four   \n",
       "2092  can you show me the name of the producer for c...   \n",
       "\n",
       "                                          IOB Slot tags  \n",
       "428                     O O B_movie O I_movie I_movie O  \n",
       "470                                       O O I_movie O  \n",
       "612   O O I_movie O O I_movie I_movie I_movie I_movi...  \n",
       "672                   O I_movie I_movie I_movie I_movie  \n",
       "1703              O I_movie O O B_movie I_movie I_movie  \n",
       "2092  O O O O O O O O O O I_movie I_movie I_movie I_...  "
      ]
     },
     "execution_count": 116,
     "metadata": {},
     "output_type": "execute_result"
    }
   ],
   "source": [
    "df_train = pd.read_csv(\"./data/hw2_train.csv\")\n",
    "df_train[df_train[\"IOB Slot tags\"].str.contains(\"O I\")]"
   ]
  },
  {
   "cell_type": "code",
   "execution_count": 111,
   "metadata": {
    "collapsed": true
   },
   "outputs": [],
   "source": [
    "df_train.loc[428, \"IOB Slot tags\"] = \"O O O O B_movie I_movie O\"\n",
    "df_train.loc[470, \"IOB Slot tags\"] = \"O O O O\"\n",
    "df_train.loc[1703, \"IOB Slot tags\"] = \"O O O O B_movie I_movie I_movie\"\n",
    "df_train.loc[2092, \"IOB Slot tags\"] = \"O O O O O O O O O O B_movie I_movie I_movie I_movie\"\n",
    "df_train.loc[672, \"IOB Slot tags\"] = \"O O B_movie I_movie I_movie\""
   ]
  },
  {
   "cell_type": "code",
   "execution_count": 114,
   "metadata": {
    "collapsed": true
   },
   "outputs": [],
   "source": [
    "df_train.to_csv(\"./data/hw2_train_corrected.csv\", index=None)"
   ]
  },
  {
   "cell_type": "code",
   "execution_count": 118,
   "metadata": {},
   "outputs": [
    {
     "data": {
      "text/html": [
       "<div>\n",
       "<style>\n",
       "    .dataframe thead tr:only-child th {\n",
       "        text-align: right;\n",
       "    }\n",
       "\n",
       "    .dataframe thead th {\n",
       "        text-align: left;\n",
       "    }\n",
       "\n",
       "    .dataframe tbody tr th {\n",
       "        vertical-align: top;\n",
       "    }\n",
       "</style>\n",
       "<table border=\"1\" class=\"dataframe\">\n",
       "  <thead>\n",
       "    <tr style=\"text-align: right;\">\n",
       "      <th></th>\n",
       "      <th>utterances</th>\n",
       "      <th>IOB Slot tags</th>\n",
       "    </tr>\n",
       "  </thead>\n",
       "  <tbody>\n",
       "    <tr>\n",
       "      <th>86</th>\n",
       "      <td>how many scorsese films were filmed in france</td>\n",
       "      <td>O O I_producer O O O O B_location</td>\n",
       "    </tr>\n",
       "    <tr>\n",
       "      <th>282</th>\n",
       "      <td>who played mother in tarkovsky 's mirror</td>\n",
       "      <td>O O B_char O B_director O I_movie</td>\n",
       "    </tr>\n",
       "  </tbody>\n",
       "</table>\n",
       "</div>"
      ],
      "text/plain": [
       "                                        utterances  \\\n",
       "86   how many scorsese films were filmed in france   \n",
       "282       who played mother in tarkovsky 's mirror   \n",
       "\n",
       "                         IOB Slot tags  \n",
       "86   O O I_producer O O O O B_location  \n",
       "282  O O B_char O B_director O I_movie  "
      ]
     },
     "execution_count": 118,
     "metadata": {},
     "output_type": "execute_result"
    }
   ],
   "source": [
    "df_val[df_val[\"IOB Slot tags\"].str.contains(\"O I\")]"
   ]
  }
 ],
 "metadata": {
  "kernelspec": {
   "display_name": "Python 3",
   "language": "python",
   "name": "python3"
  },
  "language_info": {
   "codemirror_mode": {
    "name": "ipython",
    "version": 3
   },
   "file_extension": ".py",
   "mimetype": "text/x-python",
   "name": "python",
   "nbconvert_exporter": "python",
   "pygments_lexer": "ipython3",
   "version": "3.6.2"
  }
 },
 "nbformat": 4,
 "nbformat_minor": 2
}
